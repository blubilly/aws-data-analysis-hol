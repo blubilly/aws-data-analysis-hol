{
 "cells": [
  {
   "cell_type": "markdown",
   "metadata": {},
   "source": [
    "# Glue Job Basic Template"
   ]
  },
  {
   "cell_type": "markdown",
   "metadata": {},
   "source": [
    "#### 이번 Lab에서는 Glue Job의 기본 Template을 살펴보고 SageMaker notebook을 사용하여 간단하게 데이터를 읽고, ETL하고, Write하는 과정을 살펴본다."
   ]
  },
  {
   "cell_type": "markdown",
   "metadata": {},
   "source": [
    "#### S3에 업로드한 데이터를 읽어오기 위해 각자 S3 bucket에 지정한 account-id를 account_id 변수에 할당한다."
   ]
  },
  {
   "cell_type": "code",
   "execution_count": 1,
   "metadata": {},
   "outputs": [
    {
     "name": "stdout",
     "output_type": "stream",
     "text": [
      "Starting Spark application\n"
     ]
    },
    {
     "data": {
      "text/html": [
       "<table>\n",
       "<tr><th>ID</th><th>YARN Application ID</th><th>Kind</th><th>State</th><th>Spark UI</th><th>Driver log</th><th>Current session?</th></tr><tr><td>76</td><td>application_1544019436848_0077</td><td>pyspark</td><td>idle</td><td><a target=\"_blank\" href=\"http://ip-10-0-1-214.ap-northeast-2.compute.internal:20888/proxy/application_1544019436848_0077/\">Link</a></td><td><a target=\"_blank\" href=\"http://ip-10-0-1-79.ap-northeast-2.compute.internal:8042/node/containerlogs/container_1544019436848_0077_01_000001/livy\">Link</a></td><td>✔</td></tr></table>"
      ],
      "text/plain": [
       "<IPython.core.display.HTML object>"
      ]
     },
     "metadata": {},
     "output_type": "display_data"
    },
    {
     "name": "stdout",
     "output_type": "stream",
     "text": [
      "SparkSession available as 'spark'.\n"
     ]
    }
   ],
   "source": [
    "account_id = '0123456789'\n",
    "s3_bucket = 's3://aws-glue-hol-' + account_id"
   ]
  },
  {
   "cell_type": "markdown",
   "metadata": {},
   "source": [
    "#### 실제 Glue Job의 Template은 다음과 같다. (아래코드는 실행하지 말 것)"
   ]
  },
  {
   "cell_type": "code",
   "execution_count": null,
   "metadata": {},
   "outputs": [],
   "source": [
    "import sys\n",
    "from awsglue.utils import getResolvedOptions\n",
    "from pyspark.context import SparkContext\n",
    "from awsglue.context import GlueContext\n",
    "from awsglue.job import Job\n",
    "from pyspark.sql.functions import regexp_extract, col\n",
    "\n",
    "## @params: [JOB_NAME]\n",
    "args = getResolvedOptions(sys.argv, ['JOB_NAME'])\n",
    "\n",
    "# SparkContext 변수 생성\n",
    "sc = SparkContext()\n",
    "# GlueContext 변수 생성\n",
    "glueContext = GlueContext(sc)\n",
    "# SparkSession 변수 생성\n",
    "spark = glueContext.spark_session\n",
    "# Job 변수 생성\n",
    "job = Job(glueContext)\n",
    "# Job 초기화\n",
    "job.init(args['JOB_NAME'], args)\n",
    "\n",
    "# S3에서 csv 데이터를 읽어 DynamicFrame 생성\n",
    "titanic_dyf = glueContext.create_dynamic_frame_from_options(\n",
    "    connection_type = 's3',\n",
    "    connection_options = {'paths': [s3_bucket + '/train']},\n",
    "    format='csv',\n",
    "    format_options={\n",
    "        \"withHeader\": True,\n",
    "        \"delimiter\": ','\n",
    "    })\n",
    "\n",
    "# Spark 활용: DynamicFrame을 DataFrame으로 변환 및 initail column을 추가\n",
    "titanic_csv_df = titanic_dyf.toDF()\n",
    "titanic_csv_df = titanic_csv_df.withColumn('initial', regexp_extract(col('Name'), \"(\\w+)\\.\", 1))\n",
    "\n",
    "# Glue 활용: DataFrame을 DynamicFrame으로 변환하여 Name column 삭제\n",
    "titanic_csv_dyf = DynamicFrame.fromDF(titanic_csv_df, glueContext, 'titanic_csv_dyf').drop_fields('Name')\n",
    "\n",
    "# json format으로 output 디렉토리에 저장\n",
    "titanic_csv_df.write \\\n",
    "    .format('json') \\\n",
    "    .mode('overwrite') \\\n",
    "    .save(s3_bucket + '/output')\n",
    "# Job commit\n",
    "job.commit()"
   ]
  },
  {
   "cell_type": "markdown",
   "metadata": {},
   "source": [
    "#### Jupyter Notebook에서는 SparkContext(sc)와 SparkSession(spark)이 지원되므로 선언해서 사용하지 않아도 된다."
   ]
  },
  {
   "cell_type": "code",
   "execution_count": 2,
   "metadata": {},
   "outputs": [
    {
     "name": "stdout",
     "output_type": "stream",
     "text": [
      "<SparkContext master=yarn appName=livy-session-76>"
     ]
    }
   ],
   "source": [
    "sc"
   ]
  },
  {
   "cell_type": "code",
   "execution_count": 3,
   "metadata": {},
   "outputs": [
    {
     "name": "stdout",
     "output_type": "stream",
     "text": [
      "<pyspark.sql.session.SparkSession object at 0x7f7e53e15390>"
     ]
    }
   ],
   "source": [
    "spark"
   ]
  },
  {
   "cell_type": "markdown",
   "metadata": {},
   "source": [
    "#### Jupyter Notebook에서는 아래와 같이 이미 선언된 SparkContext(sc)를 사용해서 GlueContext 생성이 가능하다.  "
   ]
  },
  {
   "cell_type": "code",
   "execution_count": 4,
   "metadata": {},
   "outputs": [],
   "source": [
    "from awsglue.context import GlueContext\n",
    "from pyspark.sql.functions import regexp_extract, col\n",
    "\n",
    "# Jupyter Notebook에서 이미 생성한 SparkContext(sc)를 사용해서 GlueContext 변수 생성\n",
    "glueContext = GlueContext(sc)"
   ]
  },
  {
   "cell_type": "markdown",
   "metadata": {},
   "source": [
    "#### S3 데이터를 읽어 DynamicFrame 생성 "
   ]
  },
  {
   "cell_type": "code",
   "execution_count": 5,
   "metadata": {},
   "outputs": [],
   "source": [
    "titanic_dyf = glueContext.create_dynamic_frame_from_options(\n",
    "    connection_type = 's3',\n",
    "    connection_options = {'paths': [s3_bucket + '/train']},\n",
    "    format='csv',\n",
    "    format_options={\n",
    "        'withHeader': True,\n",
    "        'delimiter': ','\n",
    "    })"
   ]
  },
  {
   "cell_type": "markdown",
   "metadata": {},
   "source": [
    "#### DynamicFrame을 DataFrame으로 변환하고 데이터 확인"
   ]
  },
  {
   "cell_type": "code",
   "execution_count": 6,
   "metadata": {},
   "outputs": [
    {
     "name": "stdout",
     "output_type": "stream",
     "text": [
      "+-----------+--------+------+--------------------+------+---+-----+-----+----------------+-------+-----+--------+\n",
      "|PassengerId|Survived|Pclass|                Name|   Sex|Age|SibSp|Parch|          Ticket|   Fare|Cabin|Embarked|\n",
      "+-----------+--------+------+--------------------+------+---+-----+-----+----------------+-------+-----+--------+\n",
      "|          1|       0|     3|     Mr. Owen Harris|  male| 22|    1|    0|       A/5 21171|   7.25|     |       S|\n",
      "|          2|       1|     1|Mrs. John Bradley...|female| 38|    1|    0|        PC 17599|71.2833|  C85|       C|\n",
      "|          3|       1|     3|         Miss. Laina|female| 26|    0|    0|STON/O2. 3101282|  7.925|     |       S|\n",
      "|          4|       1|     1|Mrs. Jacques Heat...|female| 35|    1|    0|          113803|   53.1| C123|       S|\n",
      "|          5|       0|     3|   Mr. William Henry|  male| 35|    0|    0|          373450|   8.05|     |       S|\n",
      "|          6|       0|     3|           Mr. James|  male|   |    0|    0|          330877| 8.4583|     |       Q|\n",
      "|          7|       0|     1|       Mr. Timothy J|  male| 54|    0|    0|           17463|51.8625|  E46|       S|\n",
      "|          8|       0|     3|Master. Gosta Leo...|  male|  2|    3|    1|          349909| 21.075|     |       S|\n",
      "|          9|       1|     3|Mrs. Oscar W (Eli...|female| 27|    0|    2|          347742|11.1333|     |       S|\n",
      "|         10|       1|     2|Mrs. Nicholas (Ad...|female| 14|    1|    0|          237736|30.0708|     |       C|\n",
      "|         11|       1|     3|Miss. Marguerite Rut|female|  4|    1|    1|         PP 9549|   16.7|   G6|       S|\n",
      "|         12|       1|     1|     Miss. Elizabeth|female| 58|    0|    0|          113783|  26.55| C103|       S|\n",
      "|         13|       0|     3|   Mr. William Henry|  male| 20|    0|    0|       A/5. 2151|   8.05|     |       S|\n",
      "|         14|       0|     3|    Mr. Anders Johan|  male| 39|    1|    5|          347082| 31.275|     |       S|\n",
      "|         15|       0|     3|Miss. Hulda Amand...|female| 14|    0|    0|          350406| 7.8542|     |       S|\n",
      "|         16|       1|     2|Mrs. (Mary D King...|female| 55|    0|    0|          248706|     16|     |       S|\n",
      "|         17|       0|     3|      Master. Eugene|  male|  2|    4|    1|          382652| 29.125|     |       Q|\n",
      "|         18|       1|     2|  Mr. Charles Eugene|  male|   |    0|    0|          244373|     13|     |       S|\n",
      "|         19|       0|     3|Vander Mrs. Juliu...|female| 31|    1|    0|          345763|     18|     |       S|\n",
      "|         20|       1|     3|         Mrs. Fatima|female|   |    0|    0|            2649|  7.225|     |       C|\n",
      "+-----------+--------+------+--------------------+------+---+-----+-----+----------------+-------+-----+--------+\n",
      "only showing top 20 rows"
     ]
    }
   ],
   "source": [
    "titanic_csv_df = titanic_dyf.toDF()\n",
    "titanic_csv_df.show()"
   ]
  },
  {
   "cell_type": "markdown",
   "metadata": {},
   "source": [
    "#### Name 컬럼에서 유의미한 String만 추출하여 initial 컬럼생성"
   ]
  },
  {
   "cell_type": "code",
   "execution_count": 7,
   "metadata": {},
   "outputs": [],
   "source": [
    "titanic_csv_df = titanic_csv_df.withColumn('initial', regexp_extract(col('Name'), \"(\\w+)\\.\", 1))"
   ]
  },
  {
   "cell_type": "markdown",
   "metadata": {},
   "source": [
    "#### json format으로 output 디렉토리에 저장"
   ]
  },
  {
   "cell_type": "code",
   "execution_count": 8,
   "metadata": {},
   "outputs": [],
   "source": [
    "titanic_csv_df.write \\\n",
    "    .format('json') \\\n",
    "    .mode('overwrite') \\\n",
    "    .save(s3_bucket + '/output')"
   ]
  },
  {
   "cell_type": "markdown",
   "metadata": {},
   "source": [
    "#### 전체 데이터 수 확인"
   ]
  },
  {
   "cell_type": "code",
   "execution_count": 9,
   "metadata": {},
   "outputs": [
    {
     "name": "stdout",
     "output_type": "stream",
     "text": [
      "891"
     ]
    }
   ],
   "source": [
    "titanic_csv_df.count()"
   ]
  },
  {
   "cell_type": "markdown",
   "metadata": {},
   "source": [
    "#### 컬럼 및 샘플 데이터 확인"
   ]
  },
  {
   "cell_type": "code",
   "execution_count": 10,
   "metadata": {},
   "outputs": [
    {
     "name": "stdout",
     "output_type": "stream",
     "text": [
      "+-----------+--------+------+--------------------+------+---+-----+-----+----------------+-------+-----+--------+-------+\n",
      "|PassengerId|Survived|Pclass|                Name|   Sex|Age|SibSp|Parch|          Ticket|   Fare|Cabin|Embarked|initial|\n",
      "+-----------+--------+------+--------------------+------+---+-----+-----+----------------+-------+-----+--------+-------+\n",
      "|          1|       0|     3|     Mr. Owen Harris|  male| 22|    1|    0|       A/5 21171|   7.25|     |       S|     Mr|\n",
      "|          2|       1|     1|Mrs. John Bradley...|female| 38|    1|    0|        PC 17599|71.2833|  C85|       C|    Mrs|\n",
      "|          3|       1|     3|         Miss. Laina|female| 26|    0|    0|STON/O2. 3101282|  7.925|     |       S|   Miss|\n",
      "|          4|       1|     1|Mrs. Jacques Heat...|female| 35|    1|    0|          113803|   53.1| C123|       S|    Mrs|\n",
      "|          5|       0|     3|   Mr. William Henry|  male| 35|    0|    0|          373450|   8.05|     |       S|     Mr|\n",
      "|          6|       0|     3|           Mr. James|  male|   |    0|    0|          330877| 8.4583|     |       Q|     Mr|\n",
      "|          7|       0|     1|       Mr. Timothy J|  male| 54|    0|    0|           17463|51.8625|  E46|       S|     Mr|\n",
      "|          8|       0|     3|Master. Gosta Leo...|  male|  2|    3|    1|          349909| 21.075|     |       S| Master|\n",
      "|          9|       1|     3|Mrs. Oscar W (Eli...|female| 27|    0|    2|          347742|11.1333|     |       S|    Mrs|\n",
      "|         10|       1|     2|Mrs. Nicholas (Ad...|female| 14|    1|    0|          237736|30.0708|     |       C|    Mrs|\n",
      "|         11|       1|     3|Miss. Marguerite Rut|female|  4|    1|    1|         PP 9549|   16.7|   G6|       S|   Miss|\n",
      "|         12|       1|     1|     Miss. Elizabeth|female| 58|    0|    0|          113783|  26.55| C103|       S|   Miss|\n",
      "|         13|       0|     3|   Mr. William Henry|  male| 20|    0|    0|       A/5. 2151|   8.05|     |       S|     Mr|\n",
      "|         14|       0|     3|    Mr. Anders Johan|  male| 39|    1|    5|          347082| 31.275|     |       S|     Mr|\n",
      "|         15|       0|     3|Miss. Hulda Amand...|female| 14|    0|    0|          350406| 7.8542|     |       S|   Miss|\n",
      "|         16|       1|     2|Mrs. (Mary D King...|female| 55|    0|    0|          248706|     16|     |       S|    Mrs|\n",
      "|         17|       0|     3|      Master. Eugene|  male|  2|    4|    1|          382652| 29.125|     |       Q| Master|\n",
      "|         18|       1|     2|  Mr. Charles Eugene|  male|   |    0|    0|          244373|     13|     |       S|     Mr|\n",
      "|         19|       0|     3|Vander Mrs. Juliu...|female| 31|    1|    0|          345763|     18|     |       S|    Mrs|\n",
      "|         20|       1|     3|         Mrs. Fatima|female|   |    0|    0|            2649|  7.225|     |       C|    Mrs|\n",
      "+-----------+--------+------+--------------------+------+---+-----+-----+----------------+-------+-----+--------+-------+\n",
      "only showing top 20 rows"
     ]
    }
   ],
   "source": [
    "titanic_csv_df.show()"
   ]
  },
  {
   "cell_type": "markdown",
   "metadata": {},
   "source": [
    "#### initial 컬럼 생성으로 Name 컬럼은 필요없으므로 삭제"
   ]
  },
  {
   "cell_type": "code",
   "execution_count": 11,
   "metadata": {},
   "outputs": [
    {
     "name": "stdout",
     "output_type": "stream",
     "text": [
      "+-----------+--------+------+------+---+-----+-----+----------------+-------+-----+--------+-------+\n",
      "|PassengerId|Survived|Pclass|   Sex|Age|SibSp|Parch|          Ticket|   Fare|Cabin|Embarked|initial|\n",
      "+-----------+--------+------+------+---+-----+-----+----------------+-------+-----+--------+-------+\n",
      "|          1|       0|     3|  male| 22|    1|    0|       A/5 21171|   7.25|     |       S|     Mr|\n",
      "|          2|       1|     1|female| 38|    1|    0|        PC 17599|71.2833|  C85|       C|    Mrs|\n",
      "|          3|       1|     3|female| 26|    0|    0|STON/O2. 3101282|  7.925|     |       S|   Miss|\n",
      "|          4|       1|     1|female| 35|    1|    0|          113803|   53.1| C123|       S|    Mrs|\n",
      "|          5|       0|     3|  male| 35|    0|    0|          373450|   8.05|     |       S|     Mr|\n",
      "|          6|       0|     3|  male|   |    0|    0|          330877| 8.4583|     |       Q|     Mr|\n",
      "|          7|       0|     1|  male| 54|    0|    0|           17463|51.8625|  E46|       S|     Mr|\n",
      "|          8|       0|     3|  male|  2|    3|    1|          349909| 21.075|     |       S| Master|\n",
      "|          9|       1|     3|female| 27|    0|    2|          347742|11.1333|     |       S|    Mrs|\n",
      "|         10|       1|     2|female| 14|    1|    0|          237736|30.0708|     |       C|    Mrs|\n",
      "|         11|       1|     3|female|  4|    1|    1|         PP 9549|   16.7|   G6|       S|   Miss|\n",
      "|         12|       1|     1|female| 58|    0|    0|          113783|  26.55| C103|       S|   Miss|\n",
      "|         13|       0|     3|  male| 20|    0|    0|       A/5. 2151|   8.05|     |       S|     Mr|\n",
      "|         14|       0|     3|  male| 39|    1|    5|          347082| 31.275|     |       S|     Mr|\n",
      "|         15|       0|     3|female| 14|    0|    0|          350406| 7.8542|     |       S|   Miss|\n",
      "|         16|       1|     2|female| 55|    0|    0|          248706|     16|     |       S|    Mrs|\n",
      "|         17|       0|     3|  male|  2|    4|    1|          382652| 29.125|     |       Q| Master|\n",
      "|         18|       1|     2|  male|   |    0|    0|          244373|     13|     |       S|     Mr|\n",
      "|         19|       0|     3|female| 31|    1|    0|          345763|     18|     |       S|    Mrs|\n",
      "|         20|       1|     3|female|   |    0|    0|            2649|  7.225|     |       C|    Mrs|\n",
      "+-----------+--------+------+------+---+-----+-----+----------------+-------+-----+--------+-------+\n",
      "only showing top 20 rows"
     ]
    }
   ],
   "source": [
    "from awsglue.dynamicframe import DynamicFrame\n",
    "\n",
    "titanic_csv_dyf = DynamicFrame.fromDF(titanic_csv_df, glueContext, 'titanic_csv_dyf').drop_fields('Name')\n",
    "titanic_csv_dyf.toDF().show()"
   ]
  },
  {
   "cell_type": "markdown",
   "metadata": {},
   "source": [
    "#### Json으로 변환해서 저장된 데이터가 정상적으로 저장되었는지 확인"
   ]
  },
  {
   "cell_type": "code",
   "execution_count": 12,
   "metadata": {},
   "outputs": [],
   "source": [
    "titanic_json_df = glueContext.create_dynamic_frame_from_options(\n",
    "    connection_type = 's3',\n",
    "    connection_options = {'paths': [s3_bucket + '/output']},\n",
    "    format='json').toDF()"
   ]
  },
  {
   "cell_type": "code",
   "execution_count": 13,
   "metadata": {},
   "outputs": [
    {
     "name": "stdout",
     "output_type": "stream",
     "text": [
      "891"
     ]
    }
   ],
   "source": [
    "titanic_json_df.count()"
   ]
  },
  {
   "cell_type": "code",
   "execution_count": 14,
   "metadata": {},
   "outputs": [
    {
     "name": "stdout",
     "output_type": "stream",
     "text": [
      "+-----------+--------+------+--------------------+------+---+-----+-----+----------------+-------+-----+--------+-------+\n",
      "|PassengerId|Survived|Pclass|                Name|   Sex|Age|SibSp|Parch|          Ticket|   Fare|Cabin|Embarked|initial|\n",
      "+-----------+--------+------+--------------------+------+---+-----+-----+----------------+-------+-----+--------+-------+\n",
      "|          1|       0|     3|     Mr. Owen Harris|  male| 22|    1|    0|       A/5 21171|   7.25|     |       S|     Mr|\n",
      "|          2|       1|     1|Mrs. John Bradley...|female| 38|    1|    0|        PC 17599|71.2833|  C85|       C|    Mrs|\n",
      "|          3|       1|     3|         Miss. Laina|female| 26|    0|    0|STON/O2. 3101282|  7.925|     |       S|   Miss|\n",
      "|          4|       1|     1|Mrs. Jacques Heat...|female| 35|    1|    0|          113803|   53.1| C123|       S|    Mrs|\n",
      "|          5|       0|     3|   Mr. William Henry|  male| 35|    0|    0|          373450|   8.05|     |       S|     Mr|\n",
      "|          6|       0|     3|           Mr. James|  male|   |    0|    0|          330877| 8.4583|     |       Q|     Mr|\n",
      "|          7|       0|     1|       Mr. Timothy J|  male| 54|    0|    0|           17463|51.8625|  E46|       S|     Mr|\n",
      "|          8|       0|     3|Master. Gosta Leo...|  male|  2|    3|    1|          349909| 21.075|     |       S| Master|\n",
      "|          9|       1|     3|Mrs. Oscar W (Eli...|female| 27|    0|    2|          347742|11.1333|     |       S|    Mrs|\n",
      "|         10|       1|     2|Mrs. Nicholas (Ad...|female| 14|    1|    0|          237736|30.0708|     |       C|    Mrs|\n",
      "|         11|       1|     3|Miss. Marguerite Rut|female|  4|    1|    1|         PP 9549|   16.7|   G6|       S|   Miss|\n",
      "|         12|       1|     1|     Miss. Elizabeth|female| 58|    0|    0|          113783|  26.55| C103|       S|   Miss|\n",
      "|         13|       0|     3|   Mr. William Henry|  male| 20|    0|    0|       A/5. 2151|   8.05|     |       S|     Mr|\n",
      "|         14|       0|     3|    Mr. Anders Johan|  male| 39|    1|    5|          347082| 31.275|     |       S|     Mr|\n",
      "|         15|       0|     3|Miss. Hulda Amand...|female| 14|    0|    0|          350406| 7.8542|     |       S|   Miss|\n",
      "|         16|       1|     2|Mrs. (Mary D King...|female| 55|    0|    0|          248706|     16|     |       S|    Mrs|\n",
      "|         17|       0|     3|      Master. Eugene|  male|  2|    4|    1|          382652| 29.125|     |       Q| Master|\n",
      "|         18|       1|     2|  Mr. Charles Eugene|  male|   |    0|    0|          244373|     13|     |       S|     Mr|\n",
      "|         19|       0|     3|Vander Mrs. Juliu...|female| 31|    1|    0|          345763|     18|     |       S|    Mrs|\n",
      "|         20|       1|     3|         Mrs. Fatima|female|   |    0|    0|            2649|  7.225|     |       C|    Mrs|\n",
      "+-----------+--------+------+--------------------+------+---+-----+-----+----------------+-------+-----+--------+-------+\n",
      "only showing top 20 rows"
     ]
    }
   ],
   "source": [
    "titanic_json_df.show()"
   ]
  },
  {
   "cell_type": "code",
   "execution_count": null,
   "metadata": {},
   "outputs": [],
   "source": []
  }
 ],
 "metadata": {
  "kernelspec": {
   "display_name": "Sparkmagic (PySpark)",
   "language": "",
   "name": "pysparkkernel"
  },
  "language_info": {
   "codemirror_mode": {
    "name": "python",
    "version": 2
   },
   "mimetype": "text/x-python",
   "name": "pyspark",
   "pygments_lexer": "python2"
  }
 },
 "nbformat": 4,
 "nbformat_minor": 2
}
